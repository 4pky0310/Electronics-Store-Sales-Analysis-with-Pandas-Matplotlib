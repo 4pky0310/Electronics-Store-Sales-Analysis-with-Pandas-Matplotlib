{
 "cells": [
  {
   "cell_type": "code",
   "execution_count": 5,
   "id": "ef285ac1-4777-4d85-b6cf-cf169fd5a506",
   "metadata": {
    "tags": []
   },
   "outputs": [],
   "source": [
    "import pandas as pd\n",
    "import os\n",
    "all_months_data=pd.DataFrame()\n",
    "files=[file for file in os.listdir(\"A:\\Data Analytics\\Pandas-Data-Science-Tasks-master\\SalesAnalysis\\Sales_Data\")] #this came from copy path\n",
    "for file in files:\n",
    "    df=pd.read_csv(\"A:/Data Analytics/Pandas-Data-Science-Tasks-master/SalesAnalysis/Sales_Data/\" +file)\n",
    "    all_months_data=pd.concat([all_months_data,df])\n",
    "all_months_data.to_csv(\"combined_data.csv\", index=False)\n",
    "all_data=pd.read_csv(\"A:\\Data Analytics\\Pandas-Data-Science-Tasks-master\\SalesAnalysis\\combined_data.csv\")\n",
    "all_data=all_data.dropna(how='all')\n",
    "all_data=all_data[all_data['Order Date'].str[0:2]!='Or']\n",
    "all_data['Month']=all_data['Order Date'].str[0:2]\n",
    "all_data['Month']=all_data['Month'].astype('int32')\n",
    "all_data['Quantity Ordered']=all_data['Quantity Ordered'].astype('int32')\n",
    "all_data['Price Each']=pd.to_numeric(all_data['Price Each']) #Make float\n",
    "all_data['Sales']=all_data['Quantity Ordered']*all_data['Price Each']\n",
    "all_data.head()"
   ]
  },
  {
   "cell_type": "markdown",
   "id": "6f8905dc-7b68-4ab1-9e6f-e02f0a2f52b8",
   "metadata": {},
   "source": [
    "### Q1:What was the best month for sales? How much was earned that month?"
   ]
  },
  {
   "cell_type": "code",
   "execution_count": 10,
   "id": "41b3f941-34c8-42bd-91e9-bccc7e7df019",
   "metadata": {
    "tags": []
   },
   "outputs": [
    {
     "data": {
      "text/html": [
       "<div>\n",
       "<style scoped>\n",
       "    .dataframe tbody tr th:only-of-type {\n",
       "        vertical-align: middle;\n",
       "    }\n",
       "\n",
       "    .dataframe tbody tr th {\n",
       "        vertical-align: top;\n",
       "    }\n",
       "\n",
       "    .dataframe thead th {\n",
       "        text-align: right;\n",
       "    }\n",
       "</style>\n",
       "<table border=\"1\" class=\"dataframe\">\n",
       "  <thead>\n",
       "    <tr style=\"text-align: right;\">\n",
       "      <th></th>\n",
       "      <th>Order ID</th>\n",
       "      <th>Product</th>\n",
       "      <th>Quantity Ordered</th>\n",
       "      <th>Price Each</th>\n",
       "      <th>Order Date</th>\n",
       "      <th>Purchase Address</th>\n",
       "      <th>Sales</th>\n",
       "    </tr>\n",
       "    <tr>\n",
       "      <th>Month</th>\n",
       "      <th></th>\n",
       "      <th></th>\n",
       "      <th></th>\n",
       "      <th></th>\n",
       "      <th></th>\n",
       "      <th></th>\n",
       "      <th></th>\n",
       "    </tr>\n",
       "  </thead>\n",
       "  <tbody>\n",
       "    <tr>\n",
       "      <th>1</th>\n",
       "      <td>2971502978172978172979692983442990492991253003...</td>\n",
       "      <td>Lightning Charging CableiPhoneLightning Chargi...</td>\n",
       "      <td>10903</td>\n",
       "      <td>1811768.38</td>\n",
       "      <td>01/01/20 00:3801/01/20 00:2201/01/20 00:2201/0...</td>\n",
       "      <td>427 Wilson St, Dallas, TX 75001519 13th St, Ne...</td>\n",
       "      <td>1822256.73</td>\n",
       "    </tr>\n",
       "    <tr>\n",
       "      <th>2</th>\n",
       "      <td>1505021505031505041505051505061505071505081505...</td>\n",
       "      <td>iPhoneAA Batteries (4-pack)27in 4K Gaming Moni...</td>\n",
       "      <td>13449</td>\n",
       "      <td>2188884.72</td>\n",
       "      <td>02/18/19 01:3502/13/19 07:2402/18/19 09:4602/0...</td>\n",
       "      <td>866 Spruce St, Portland, ME 0410118 13th St, S...</td>\n",
       "      <td>2202022.42</td>\n",
       "    </tr>\n",
       "    <tr>\n",
       "      <th>3</th>\n",
       "      <td>1505331505411508121517491520361532841535441538...</td>\n",
       "      <td>AAA Batteries (4-pack)AAA Batteries (4-pack)Wi...</td>\n",
       "      <td>17005</td>\n",
       "      <td>2791207.83</td>\n",
       "      <td>03/01/19 03:0603/01/19 01:0303/01/19 02:1803/0...</td>\n",
       "      <td>270 Dogwood St, San Francisco, CA 94016683 Ada...</td>\n",
       "      <td>2807100.38</td>\n",
       "    </tr>\n",
       "    <tr>\n",
       "      <th>4</th>\n",
       "      <td>1765581765591765601765601765611765621765631765...</td>\n",
       "      <td>USB-C Charging CableBose SoundSport Headphones...</td>\n",
       "      <td>20558</td>\n",
       "      <td>3367671.02</td>\n",
       "      <td>04/19/19 08:4604/07/19 22:3004/12/19 14:3804/1...</td>\n",
       "      <td>917 1st St, Dallas, TX 75001682 Chestnut St, B...</td>\n",
       "      <td>3390670.24</td>\n",
       "    </tr>\n",
       "    <tr>\n",
       "      <th>5</th>\n",
       "      <td>1769781775511777781777781790761790761791341800...</td>\n",
       "      <td>Apple Airpods Headphones27in FHD MonitoriPhone...</td>\n",
       "      <td>18667</td>\n",
       "      <td>3135125.13</td>\n",
       "      <td>05/01/19 03:2905/01/19 00:1305/01/19 00:4805/0...</td>\n",
       "      <td>589 Lake St, Portland, OR 97035615 Lincoln St,...</td>\n",
       "      <td>3152606.75</td>\n",
       "    </tr>\n",
       "    <tr>\n",
       "      <th>6</th>\n",
       "      <td>2099212099222099232099242099252099262099272099...</td>\n",
       "      <td>USB-C Charging CableMacbook Pro LaptopThinkPad...</td>\n",
       "      <td>15253</td>\n",
       "      <td>2562025.61</td>\n",
       "      <td>06/23/19 19:3406/30/19 10:0506/24/19 20:1806/0...</td>\n",
       "      <td>950 Walnut St, Portland, ME 0410180 4th St, Sa...</td>\n",
       "      <td>2577802.26</td>\n",
       "    </tr>\n",
       "    <tr>\n",
       "      <th>7</th>\n",
       "      <td>2229102229112229122229132229142229152229162229...</td>\n",
       "      <td>Apple Airpods HeadphonesFlatscreen TVAA Batter...</td>\n",
       "      <td>16072</td>\n",
       "      <td>2632539.56</td>\n",
       "      <td>07/26/19 16:5107/05/19 08:5507/29/19 12:4107/2...</td>\n",
       "      <td>389 South St, Atlanta, GA 30301590 4th St, Sea...</td>\n",
       "      <td>2647775.76</td>\n",
       "    </tr>\n",
       "    <tr>\n",
       "      <th>8</th>\n",
       "      <td>2366702366712366722366732366742366752366762366...</td>\n",
       "      <td>Wired HeadphonesBose SoundSport HeadphonesiPho...</td>\n",
       "      <td>13448</td>\n",
       "      <td>2230345.42</td>\n",
       "      <td>08/31/19 22:2108/15/19 15:1108/06/19 14:4008/2...</td>\n",
       "      <td>359 Spruce St, Seattle, WA 98101492 Ridge St, ...</td>\n",
       "      <td>2244467.88</td>\n",
       "    </tr>\n",
       "    <tr>\n",
       "      <th>9</th>\n",
       "      <td>2388342392852406362410542423432428652436672449...</td>\n",
       "      <td>Apple Airpods Headphones34in Ultrawide Monitor...</td>\n",
       "      <td>13109</td>\n",
       "      <td>2084992.09</td>\n",
       "      <td>09/01/19 04:1309/01/19 01:0909/01/19 02:0709/0...</td>\n",
       "      <td>761 Forest St, San Francisco, CA 94016373 1st ...</td>\n",
       "      <td>2097560.13</td>\n",
       "    </tr>\n",
       "    <tr>\n",
       "      <th>10</th>\n",
       "      <td>2593582593592593602593612593622593632593642593...</td>\n",
       "      <td>34in Ultrawide Monitor27in 4K Gaming MonitorAA...</td>\n",
       "      <td>22703</td>\n",
       "      <td>3715554.83</td>\n",
       "      <td>10/28/19 10:5610/28/19 17:2610/24/19 17:2010/1...</td>\n",
       "      <td>609 Cherry St, Dallas, TX 75001225 5th St, Los...</td>\n",
       "      <td>3736726.88</td>\n",
       "    </tr>\n",
       "    <tr>\n",
       "      <th>11</th>\n",
       "      <td>2787972787982787992788002788012788022788032788...</td>\n",
       "      <td>Wired HeadphonesUSB-C Charging CableApple Airp...</td>\n",
       "      <td>19798</td>\n",
       "      <td>3180600.68</td>\n",
       "      <td>11/21/19 09:5411/17/19 10:0311/19/19 14:5611/2...</td>\n",
       "      <td>46 Park St, New York City, NY 10001962 Hickory...</td>\n",
       "      <td>3199603.20</td>\n",
       "    </tr>\n",
       "    <tr>\n",
       "      <th>12</th>\n",
       "      <td>2956652956662956672956682956692956702956712956...</td>\n",
       "      <td>Macbook Pro LaptopLG Washing MachineUSB-C Char...</td>\n",
       "      <td>28114</td>\n",
       "      <td>4588415.41</td>\n",
       "      <td>12/30/19 00:0112/29/19 07:0312/12/19 18:2112/2...</td>\n",
       "      <td>136 Church St, New York City, NY 10001562 2nd ...</td>\n",
       "      <td>4613443.34</td>\n",
       "    </tr>\n",
       "  </tbody>\n",
       "</table>\n",
       "</div>"
      ],
      "text/plain": [
       "                                                Order ID  \\\n",
       "Month                                                      \n",
       "1      2971502978172978172979692983442990492991253003...   \n",
       "2      1505021505031505041505051505061505071505081505...   \n",
       "3      1505331505411508121517491520361532841535441538...   \n",
       "4      1765581765591765601765601765611765621765631765...   \n",
       "5      1769781775511777781777781790761790761791341800...   \n",
       "6      2099212099222099232099242099252099262099272099...   \n",
       "7      2229102229112229122229132229142229152229162229...   \n",
       "8      2366702366712366722366732366742366752366762366...   \n",
       "9      2388342392852406362410542423432428652436672449...   \n",
       "10     2593582593592593602593612593622593632593642593...   \n",
       "11     2787972787982787992788002788012788022788032788...   \n",
       "12     2956652956662956672956682956692956702956712956...   \n",
       "\n",
       "                                                 Product  Quantity Ordered  \\\n",
       "Month                                                                        \n",
       "1      Lightning Charging CableiPhoneLightning Chargi...             10903   \n",
       "2      iPhoneAA Batteries (4-pack)27in 4K Gaming Moni...             13449   \n",
       "3      AAA Batteries (4-pack)AAA Batteries (4-pack)Wi...             17005   \n",
       "4      USB-C Charging CableBose SoundSport Headphones...             20558   \n",
       "5      Apple Airpods Headphones27in FHD MonitoriPhone...             18667   \n",
       "6      USB-C Charging CableMacbook Pro LaptopThinkPad...             15253   \n",
       "7      Apple Airpods HeadphonesFlatscreen TVAA Batter...             16072   \n",
       "8      Wired HeadphonesBose SoundSport HeadphonesiPho...             13448   \n",
       "9      Apple Airpods Headphones34in Ultrawide Monitor...             13109   \n",
       "10     34in Ultrawide Monitor27in 4K Gaming MonitorAA...             22703   \n",
       "11     Wired HeadphonesUSB-C Charging CableApple Airp...             19798   \n",
       "12     Macbook Pro LaptopLG Washing MachineUSB-C Char...             28114   \n",
       "\n",
       "       Price Each                                         Order Date  \\\n",
       "Month                                                                  \n",
       "1      1811768.38  01/01/20 00:3801/01/20 00:2201/01/20 00:2201/0...   \n",
       "2      2188884.72  02/18/19 01:3502/13/19 07:2402/18/19 09:4602/0...   \n",
       "3      2791207.83  03/01/19 03:0603/01/19 01:0303/01/19 02:1803/0...   \n",
       "4      3367671.02  04/19/19 08:4604/07/19 22:3004/12/19 14:3804/1...   \n",
       "5      3135125.13  05/01/19 03:2905/01/19 00:1305/01/19 00:4805/0...   \n",
       "6      2562025.61  06/23/19 19:3406/30/19 10:0506/24/19 20:1806/0...   \n",
       "7      2632539.56  07/26/19 16:5107/05/19 08:5507/29/19 12:4107/2...   \n",
       "8      2230345.42  08/31/19 22:2108/15/19 15:1108/06/19 14:4008/2...   \n",
       "9      2084992.09  09/01/19 04:1309/01/19 01:0909/01/19 02:0709/0...   \n",
       "10     3715554.83  10/28/19 10:5610/28/19 17:2610/24/19 17:2010/1...   \n",
       "11     3180600.68  11/21/19 09:5411/17/19 10:0311/19/19 14:5611/2...   \n",
       "12     4588415.41  12/30/19 00:0112/29/19 07:0312/12/19 18:2112/2...   \n",
       "\n",
       "                                        Purchase Address       Sales  \n",
       "Month                                                                 \n",
       "1      427 Wilson St, Dallas, TX 75001519 13th St, Ne...  1822256.73  \n",
       "2      866 Spruce St, Portland, ME 0410118 13th St, S...  2202022.42  \n",
       "3      270 Dogwood St, San Francisco, CA 94016683 Ada...  2807100.38  \n",
       "4      917 1st St, Dallas, TX 75001682 Chestnut St, B...  3390670.24  \n",
       "5      589 Lake St, Portland, OR 97035615 Lincoln St,...  3152606.75  \n",
       "6      950 Walnut St, Portland, ME 0410180 4th St, Sa...  2577802.26  \n",
       "7      389 South St, Atlanta, GA 30301590 4th St, Sea...  2647775.76  \n",
       "8      359 Spruce St, Seattle, WA 98101492 Ridge St, ...  2244467.88  \n",
       "9      761 Forest St, San Francisco, CA 94016373 1st ...  2097560.13  \n",
       "10     609 Cherry St, Dallas, TX 75001225 5th St, Los...  3736726.88  \n",
       "11     46 Park St, New York City, NY 10001962 Hickory...  3199603.20  \n",
       "12     136 Church St, New York City, NY 10001562 2nd ...  4613443.34  "
      ]
     },
     "execution_count": 10,
     "metadata": {},
     "output_type": "execute_result"
    }
   ],
   "source": [
    "all_data.groupby('Month').sum()"
   ]
  },
  {
   "cell_type": "code",
   "execution_count": 7,
   "id": "048ee5bf-175f-4bf9-91db-272dd30b87b1",
   "metadata": {
    "tags": []
   },
   "outputs": [],
   "source": [
    "import matplotlib.pyplot as plt"
   ]
  },
  {
   "cell_type": "code",
   "execution_count": 13,
   "id": "9e60b033-7f00-4283-a031-9e45b38df3a6",
   "metadata": {
    "tags": []
   },
   "outputs": [
    {
     "data": {
      "image/png": "[encoded data removed]",
      "text/plain": [
       "<Figure size 640x480 with 1 Axes>"
      ]
     },
     "metadata": {},
     "output_type": "display_data"
    }
   ],
   "source": [
    "results=all_data.groupby('Month').sum()\n",
    "months=range(1,13)\n",
    "plt.bar(months, results['Sales'])\n",
    "plt.show()"
   ]
  },
  {
   "cell_type": "code",
   "execution_count": 14,
   "id": "43dd6137-3794-415f-bcc1-ed37a84385bc",
   "metadata": {
    "tags": []
   },
   "outputs": [
    {
     "data": {
      "image/png": "[encoded data removed]",
      "text/plain": [
       "<Figure size 640x480 with 1 Axes>"
      ]
     },
     "metadata": {},
     "output_type": "display_data"
    }
   ],
   "source": [
    "plt.bar(months, results['Sales'])\n",
    "plt.xticks(months)\n",
    "plt.ylabel('Sales in USD ($)')\n",
    "plt.xlabel('Month Number')\n",
    "plt.show()"
   ]
  },
  {
   "cell_type": "code",
   "execution_count": null,
   "id": "215f11b3-7470-42b9-bd2f-2a2616deb3b7",
   "metadata": {},
   "outputs": [],
   "source": []
  }
 ],
 "metadata": {
  "kernelspec": {
   "display_name": "Python 3 (ipykernel)",
   "language": "python",
   "name": "python3"
  },
  "language_info": {
   "codemirror_mode": {
    "name": "ipython",
    "version": 3
   },
   "file_extension": ".py",
   "mimetype": "text/x-python",
   "name": "python",
   "nbconvert_exporter": "python",
   "pygments_lexer": "ipython3",
   "version": "3.11.5"
  },
  "widgets": {
   "application/vnd.jupyter.widget-state+json": {
    "state": {},
    "version_major": 2,
    "version_minor": 0
   }
  }
 },
 "nbformat": 4,
 "nbformat_minor": 5
}
